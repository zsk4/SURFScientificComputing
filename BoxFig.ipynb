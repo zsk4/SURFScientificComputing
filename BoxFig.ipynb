{
 "cells": [
  {
   "cell_type": "code",
   "execution_count": null,
   "metadata": {},
   "outputs": [
    {
     "ename": "ModuleNotFoundError",
     "evalue": "No module named 'BoundingShape'",
     "output_type": "error",
     "traceback": [
      "\u001b[31m---------------------------------------------------------------------------\u001b[39m",
      "\u001b[31mModuleNotFoundError\u001b[39m                       Traceback (most recent call last)",
      "\u001b[36mCell\u001b[39m\u001b[36m \u001b[39m\u001b[32mIn[2]\u001b[39m\u001b[32m, line 2\u001b[39m\n\u001b[32m      1\u001b[39m \u001b[38;5;66;03m# Imports\u001b[39;00m\n\u001b[32m----> \u001b[39m\u001b[32m2\u001b[39m \u001b[38;5;28;01mimport\u001b[39;00m\u001b[38;5;250m \u001b[39m\u001b[34;01mBoundingShape\u001b[39;00m\u001b[38;5;250m \u001b[39m\u001b[38;5;28;01mas\u001b[39;00m\u001b[38;5;250m \u001b[39m\u001b[34;01mBoundingShape\u001b[39;00m\n\u001b[32m      3\u001b[39m \u001b[38;5;28;01mimport\u001b[39;00m\u001b[38;5;250m \u001b[39m\u001b[34;01mnumpy\u001b[39;00m\u001b[38;5;250m \u001b[39m\u001b[38;5;28;01mas\u001b[39;00m\u001b[38;5;250m \u001b[39m\u001b[34;01mnp\u001b[39;00m\n\u001b[32m      4\u001b[39m \u001b[38;5;28;01mimport\u001b[39;00m\u001b[38;5;250m \u001b[39m\u001b[34;01mmatplotlib\u001b[39;00m\u001b[34;01m.\u001b[39;00m\u001b[34;01mpyplot\u001b[39;00m\u001b[38;5;250m \u001b[39m\u001b[38;5;28;01mas\u001b[39;00m\u001b[38;5;250m \u001b[39m\u001b[34;01mplt\u001b[39;00m\n",
      "\u001b[31mModuleNotFoundError\u001b[39m: No module named 'BoundingShape'"
     ]
    }
   ],
   "source": [
    "# Imports\n",
    "import src.BoundingShape as BoundingShape\n",
    "import numpy as np\n",
    "import matplotlib.pyplot as plt\n",
    "\n",
    "# Example list of points\n",
    "pts = np.random.rand(1000, 2) * 9  # 1000 random points in the range [0, 9]\n",
    "\n",
    "# Create rectangle and check if points are in rectangle\n",
    "bounding_box = BoundingShape.Polygon([(2, 2), (2, 5), (5, 5), (5, 2), (2, 2)])\n",
    "inside_box = bounding_box.inShape(pts)\n",
    "\n",
    "# Create circle and check if points are in circle\n",
    "bounding_circle = BoundingShape.Circle((7, 7), 2)\n",
    "inside_circle = bounding_circle.inShape(pts)\n",
    "\n",
    "# Set color red if in either shape, else blue\n",
    "color = np.full(len(inside_box), \"b\", dtype=\"str\")\n",
    "color[inside_box | inside_circle] = \"r\"\n",
    "\n",
    "# Plot\n",
    "M_TO_CM = 100  # Conversion factor from meters to centimeters\n",
    "pts = pts * M_TO_CM\n",
    "fig, ax = plt.subplots(figsize=(6, 6))\n",
    "ax.scatter(pts[:, 0], pts[:, 1], c=color)"
   ]
  }
 ],
 "metadata": {
  "kernelspec": {
   "display_name": ".venv",
   "language": "python",
   "name": "python3"
  },
  "language_info": {
   "codemirror_mode": {
    "name": "ipython",
    "version": 3
   },
   "file_extension": ".py",
   "mimetype": "text/x-python",
   "name": "python",
   "nbconvert_exporter": "python",
   "pygments_lexer": "ipython3",
   "version": "3.12.10"
  }
 },
 "nbformat": 4,
 "nbformat_minor": 2
}
