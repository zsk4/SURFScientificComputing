{
 "cells": [
  {
   "cell_type": "code",
   "execution_count": null,
   "metadata": {},
   "outputs": [
    {
     "ename": "AssertionError",
     "evalue": "First and last vertices must be the same.",
     "output_type": "error",
     "traceback": [
      "\u001b[31m---------------------------------------------------------------------------\u001b[39m",
      "\u001b[31mAssertionError\u001b[39m                            Traceback (most recent call last)",
      "\u001b[36mCell\u001b[39m\u001b[36m \u001b[39m\u001b[32mIn[2]\u001b[39m\u001b[32m, line 10\u001b[39m\n\u001b[32m      7\u001b[39m pts = np.random.rand(\u001b[32m1000\u001b[39m, \u001b[32m2\u001b[39m) * \u001b[32m9\u001b[39m  \u001b[38;5;66;03m# 1000 random points in the range [0, 9]\u001b[39;00m\n\u001b[32m      9\u001b[39m \u001b[38;5;66;03m# Create rectangle and check if points are in rectangle\u001b[39;00m\n\u001b[32m---> \u001b[39m\u001b[32m10\u001b[39m bounding_box = \u001b[43mBoundingShape\u001b[49m\u001b[43m.\u001b[49m\u001b[43mPolygon\u001b[49m\u001b[43m(\u001b[49m\u001b[43m[\u001b[49m\u001b[43m(\u001b[49m\u001b[32;43m2\u001b[39;49m\u001b[43m,\u001b[49m\u001b[43m \u001b[49m\u001b[32;43m2\u001b[39;49m\u001b[43m)\u001b[49m\u001b[43m,\u001b[49m\u001b[43m \u001b[49m\u001b[43m(\u001b[49m\u001b[32;43m2\u001b[39;49m\u001b[43m,\u001b[49m\u001b[43m \u001b[49m\u001b[32;43m5\u001b[39;49m\u001b[43m)\u001b[49m\u001b[43m,\u001b[49m\u001b[43m \u001b[49m\u001b[43m(\u001b[49m\u001b[32;43m5\u001b[39;49m\u001b[43m,\u001b[49m\u001b[43m \u001b[49m\u001b[32;43m5\u001b[39;49m\u001b[43m)\u001b[49m\u001b[43m,\u001b[49m\u001b[43m \u001b[49m\u001b[43m(\u001b[49m\u001b[32;43m5\u001b[39;49m\u001b[43m,\u001b[49m\u001b[43m \u001b[49m\u001b[32;43m2\u001b[39;49m\u001b[43m)\u001b[49m\u001b[43m,\u001b[49m\u001b[43m \u001b[49m\u001b[43m(\u001b[49m\u001b[32;43m1\u001b[39;49m\u001b[43m,\u001b[49m\u001b[43m \u001b[49m\u001b[32;43m2\u001b[39;49m\u001b[43m)\u001b[49m\u001b[43m]\u001b[49m\u001b[43m)\u001b[49m\n\u001b[32m     11\u001b[39m inside_box = bounding_box.inShape(pts)\n\u001b[32m     13\u001b[39m \u001b[38;5;66;03m# Create circle and check if points are in circle\u001b[39;00m\n",
      "\u001b[36mFile \u001b[39m\u001b[32m~/Research/SURFScientificComputing/src/BoundingShape.py:53\u001b[39m, in \u001b[36mPolygon.__init__\u001b[39m\u001b[34m(self, box)\u001b[39m\n\u001b[32m     44\u001b[39m \u001b[38;5;28;01mdef\u001b[39;00m\u001b[38;5;250m \u001b[39m\u001b[34m__init__\u001b[39m(\u001b[38;5;28mself\u001b[39m, box: \u001b[38;5;28mlist\u001b[39m[\u001b[38;5;28mtuple\u001b[39m]) -> \u001b[38;5;28;01mNone\u001b[39;00m:\n\u001b[32m     45\u001b[39m \u001b[38;5;250m    \u001b[39m\u001b[33;03m\"\"\"Initialize a bounding polygon.\u001b[39;00m\n\u001b[32m     46\u001b[39m \n\u001b[32m     47\u001b[39m \u001b[33;03m    Parameters\u001b[39;00m\n\u001b[32m   (...)\u001b[39m\u001b[32m     51\u001b[39m \u001b[33;03m        The last vertex should be the same as the first.\u001b[39;00m\n\u001b[32m     52\u001b[39m \u001b[33;03m    \"\"\"\u001b[39;00m\n\u001b[32m---> \u001b[39m\u001b[32m53\u001b[39m     \u001b[38;5;28;01massert\u001b[39;00m box[\u001b[32m0\u001b[39m] == box[-\u001b[32m1\u001b[39m], \u001b[33m\"\u001b[39m\u001b[33mFirst and last vertices must be the same.\u001b[39m\u001b[33m\"\u001b[39m\n\u001b[32m     54\u001b[39m     \u001b[38;5;28mself\u001b[39m.shape = shapely.geometry.Polygon(box)\n",
      "\u001b[31mAssertionError\u001b[39m: First and last vertices must be the same."
     ]
    }
   ],
   "source": [
    "# Imports\n",
    "import src.BoundingShape as BoundingShape\n",
    "import numpy as np\n",
    "import matplotlib.pyplot as plt\n",
    "\n",
    "# Example list of points\n",
    "pts = np.random.rand(1000, 2) * 9  # 1000 random points in the range [0, 9]\n",
    "\n",
    "# Create rectangle and check if points are in rectangle\n",
    "bounding_box = BoundingShape.Polygon([(2, 2), (2, 5), (5, 5), (5, 2), (1, 2)])\n",
    "inside_box = bounding_box.inShape(pts)\n",
    "\n",
    "# Create circle and check if points are in circle\n",
    "bounding_circle = BoundingShape.Circle((7, 7), 2)\n",
    "inside_circle = bounding_circle.inShape(pts)\n",
    "\n",
    "\n",
    "# Set color red if in either shape, else blue\n",
    "color = np.full(len(inside_box), \"b\", dtype=\"str\")\n",
    "color[inside_box | inside_circle] = \"r\"\n",
    "\n",
    "# Plot\n",
    "M_TO_CM = 100  # Conversion factor from meters to centimeters\n",
    "pts = pts * M_TO_CM\n",
    "fig, ax = plt.subplots(figsize=(6, 6))\n",
    "ax.scatter(pts[:, 0], pts[:, 1], c=color)"
   ]
  }
 ],
 "metadata": {
  "kernelspec": {
   "display_name": ".venv",
   "language": "python",
   "name": "python3"
  },
  "language_info": {
   "codemirror_mode": {
    "name": "ipython",
    "version": 3
   },
   "file_extension": ".py",
   "mimetype": "text/x-python",
   "name": "python",
   "nbconvert_exporter": "python",
   "pygments_lexer": "ipython3",
   "version": "3.12.10"
  }
 },
 "nbformat": 4,
 "nbformat_minor": 2
}
