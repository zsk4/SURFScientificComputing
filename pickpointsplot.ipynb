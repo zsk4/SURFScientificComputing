{
 "cells": [
  {
   "cell_type": "code",
   "execution_count": null,
   "id": "1ba9c99a",
   "metadata": {},
   "outputs": [],
   "source": [
    "# Zachary Katz\n",
    "# zachary_katz@mines.edu\n",
    "# 12 June 2025\n",
    "\n",
    "# This notebook contains code that completes a mystery task. Although the code\n",
    "# runs in its current form, the task is not clear.\n",
    "# There are at least 13 examples of poor programming practices. Your job is to\n",
    "# identify and fix as many of these as you can.\n",
    "\n",
    "# After 15 minutes, we'll come back together as a group and discuss your\n",
    "# findings, then work on refactoring the code together."
   ]
  },
  {
   "cell_type": "code",
   "execution_count": null,
   "id": "b1920bab",
   "metadata": {},
   "outputs": [],
   "source": []
  }
 ],
 "metadata": {
  "language_info": {
   "name": "python"
  }
 },
 "nbformat": 4,
 "nbformat_minor": 5
}
